{
  "nbformat": 4,
  "nbformat_minor": 0,
  "metadata": {
    "colab": {
      "name": "BioBERTEnvironment.ipynb",
      "provenance": [],
      "collapsed_sections": [],
      "toc_visible": true,
      "include_colab_link": true
    },
    "kernelspec": {
      "name": "python3",
      "display_name": "Python 3"
    }
  },
  "cells": [
    {
      "cell_type": "markdown",
      "metadata": {
        "id": "view-in-github",
        "colab_type": "text"
      },
      "source": [
        "<a href=\"https://colab.research.google.com/github/rasmusli/EDAN70-relationextraction/blob/master/BioBERTEnvironment.ipynb\" target=\"_parent\"><img src=\"https://colab.research.google.com/assets/colab-badge.svg\" alt=\"Open In Colab\"/></a>"
      ]
    },
    {
      "cell_type": "markdown",
      "metadata": {
        "id": "wolOfWErAN0j",
        "colab_type": "text"
      },
      "source": [
        "# BioBERT Environment Setup"
      ]
    },
    {
      "cell_type": "code",
      "metadata": {
        "id": "aDk0teG59iaI",
        "colab_type": "code",
        "outputId": "cb0f61af-0e0c-4070-e5aa-7e3beedbf1e5",
        "colab": {
          "base_uri": "https://localhost:8080/",
          "height": 136
        }
      },
      "source": [
        "!git clone https://github.com/dmis-lab/biobert.git"
      ],
      "execution_count": 0,
      "outputs": [
        {
          "output_type": "stream",
          "text": [
            "Cloning into 'biobert'...\n",
            "remote: Enumerating objects: 30, done.\u001b[K\n",
            "remote: Counting objects: 100% (30/30), done.\u001b[K\n",
            "remote: Compressing objects: 100% (26/26), done.\u001b[K\n",
            "remote: Total 308 (delta 15), reused 8 (delta 4), pack-reused 278\u001b[K\n",
            "Receiving objects: 100% (308/308), 502.04 KiB | 2.40 MiB/s, done.\n",
            "Resolving deltas: 100% (177/177), done.\n"
          ],
          "name": "stdout"
        }
      ]
    },
    {
      "cell_type": "code",
      "metadata": {
        "id": "wn4cmWFgC2PX",
        "colab_type": "code",
        "outputId": "c6c63336-3619-4318-acbf-9cc05569e5ff",
        "colab": {
          "base_uri": "https://localhost:8080/",
          "height": 445
        }
      },
      "source": [
        "!pip install -r biobert/requirements.txt"
      ],
      "execution_count": 0,
      "outputs": [
        {
          "output_type": "stream",
          "text": [
            "Requirement already satisfied: tensorflow-gpu==1.11.0 in /usr/local/lib/python3.6/dist-packages (from -r biobert/requirements.txt (line 1)) (1.11.0)\n",
            "Requirement already satisfied: sklearn in /usr/local/lib/python3.6/dist-packages (from -r biobert/requirements.txt (line 6)) (0.0)\n",
            "Requirement already satisfied: pandas==0.23 in /usr/local/lib/python3.6/dist-packages (from -r biobert/requirements.txt (line 7)) (0.23.0)\n",
            "Requirement already satisfied: tensorboard<1.12.0,>=1.11.0 in /usr/local/lib/python3.6/dist-packages (from tensorflow-gpu==1.11.0->-r biobert/requirements.txt (line 1)) (1.11.0)\n",
            "Requirement already satisfied: grpcio>=1.8.6 in /usr/local/lib/python3.6/dist-packages (from tensorflow-gpu==1.11.0->-r biobert/requirements.txt (line 1)) (1.28.1)\n",
            "Requirement already satisfied: keras-applications>=1.0.5 in /usr/local/lib/python3.6/dist-packages (from tensorflow-gpu==1.11.0->-r biobert/requirements.txt (line 1)) (1.0.8)\n",
            "Requirement already satisfied: astor>=0.6.0 in /usr/local/lib/python3.6/dist-packages (from tensorflow-gpu==1.11.0->-r biobert/requirements.txt (line 1)) (0.8.1)\n",
            "Requirement already satisfied: numpy>=1.13.3 in /usr/local/lib/python3.6/dist-packages (from tensorflow-gpu==1.11.0->-r biobert/requirements.txt (line 1)) (1.18.2)\n",
            "Requirement already satisfied: six>=1.10.0 in /usr/local/lib/python3.6/dist-packages (from tensorflow-gpu==1.11.0->-r biobert/requirements.txt (line 1)) (1.12.0)\n",
            "Requirement already satisfied: wheel>=0.26 in /usr/local/lib/python3.6/dist-packages (from tensorflow-gpu==1.11.0->-r biobert/requirements.txt (line 1)) (0.34.2)\n",
            "Requirement already satisfied: keras-preprocessing>=1.0.3 in /usr/local/lib/python3.6/dist-packages (from tensorflow-gpu==1.11.0->-r biobert/requirements.txt (line 1)) (1.1.0)\n",
            "Requirement already satisfied: protobuf>=3.6.0 in /usr/local/lib/python3.6/dist-packages (from tensorflow-gpu==1.11.0->-r biobert/requirements.txt (line 1)) (3.10.0)\n",
            "Requirement already satisfied: absl-py>=0.1.6 in /usr/local/lib/python3.6/dist-packages (from tensorflow-gpu==1.11.0->-r biobert/requirements.txt (line 1)) (0.9.0)\n",
            "Requirement already satisfied: termcolor>=1.1.0 in /usr/local/lib/python3.6/dist-packages (from tensorflow-gpu==1.11.0->-r biobert/requirements.txt (line 1)) (1.1.0)\n",
            "Requirement already satisfied: setuptools<=39.1.0 in /usr/local/lib/python3.6/dist-packages (from tensorflow-gpu==1.11.0->-r biobert/requirements.txt (line 1)) (39.1.0)\n",
            "Requirement already satisfied: gast>=0.2.0 in /usr/local/lib/python3.6/dist-packages (from tensorflow-gpu==1.11.0->-r biobert/requirements.txt (line 1)) (0.3.3)\n",
            "Requirement already satisfied: scikit-learn in /usr/local/lib/python3.6/dist-packages (from sklearn->-r biobert/requirements.txt (line 6)) (0.22.2.post1)\n",
            "Requirement already satisfied: pytz>=2011k in /usr/local/lib/python3.6/dist-packages (from pandas==0.23->-r biobert/requirements.txt (line 7)) (2018.9)\n",
            "Requirement already satisfied: python-dateutil>=2.5.0 in /usr/local/lib/python3.6/dist-packages (from pandas==0.23->-r biobert/requirements.txt (line 7)) (2.8.1)\n",
            "Requirement already satisfied: werkzeug>=0.11.10 in /usr/local/lib/python3.6/dist-packages (from tensorboard<1.12.0,>=1.11.0->tensorflow-gpu==1.11.0->-r biobert/requirements.txt (line 1)) (1.0.1)\n",
            "Requirement already satisfied: markdown>=2.6.8 in /usr/local/lib/python3.6/dist-packages (from tensorboard<1.12.0,>=1.11.0->tensorflow-gpu==1.11.0->-r biobert/requirements.txt (line 1)) (3.2.1)\n",
            "Requirement already satisfied: h5py in /usr/local/lib/python3.6/dist-packages (from keras-applications>=1.0.5->tensorflow-gpu==1.11.0->-r biobert/requirements.txt (line 1)) (2.10.0)\n",
            "Requirement already satisfied: joblib>=0.11 in /usr/local/lib/python3.6/dist-packages (from scikit-learn->sklearn->-r biobert/requirements.txt (line 6)) (0.14.1)\n",
            "Requirement already satisfied: scipy>=0.17.0 in /usr/local/lib/python3.6/dist-packages (from scikit-learn->sklearn->-r biobert/requirements.txt (line 6)) (1.4.1)\n"
          ],
          "name": "stdout"
        }
      ]
    },
    {
      "cell_type": "markdown",
      "metadata": {
        "id": "oLPeDlrmFi2L",
        "colab_type": "text"
      },
      "source": [
        "All requirements downloaded. Next step is to install CUDA. Specifically version 9.0 for compability with Tensorflow."
      ]
    },
    {
      "cell_type": "code",
      "metadata": {
        "id": "a_Pl0q7EVXcX",
        "colab_type": "code",
        "colab": {}
      },
      "source": [
        "!sudo dpkg -i drive/My\\ Drive/project_biobert/installation_files/cuda-repo-ubuntu1704_9.0.176-1_amd64.deb\n",
        "!sudo apt-key adv --fetch-keys http://developer.download.nvidia.com/compute/cuda/repos/ubuntu1604/x86_64/7fa2af80.pub\n",
        "!sudo apt-get update\n",
        "!sudo apt-get install cuda-9-0 #REMEMBER YOU HAVE TO ANSWER THE PROMPT!"
      ],
      "execution_count": 0,
      "outputs": []
    }
  ]
}