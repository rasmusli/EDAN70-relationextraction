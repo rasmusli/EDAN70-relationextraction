{
 "cells": [
  {
   "cell_type": "markdown",
   "metadata": {},
   "source": [
    "# Rasmus and Viktor Logbook"
   ]
  },
  {
   "cell_type": "code",
   "execution_count": null,
   "metadata": {},
   "outputs": [],
   "source": []
  },
  {
   "cell_type": "markdown",
   "metadata": {},
   "source": [
    "## 2020 - 04 - 11\n",
    "**Aim**: Setup up notebook, and github. Read articles relating to relation extraction and BioBERT. The main goal now is to get a good grip on what the overall goal of the project is as well as obtain as much information related to the areas as possible.\n",
    "\n",
    "**Result**: Notebook and git now up. Learnt a lot about NLP in general, and relation extraction and BioBERT specifically. Though a lot of more reading to be done.\n",
    "\n",
    "**Next Step**: Keep on reading up on relation extraction and BioBERT. Start setting everything up on our computers.\n",
    "\n",
    "Articles read:"
   ]
  },
  {
   "cell_type": "markdown",
   "metadata": {},
   "source": [
    "- https://journals.plos.org/plosone/article?id=10.1371/journal.pone.0200699 - Relationship extraction using EnsambleSVM \n",
    "- https://bmcbioinformatics.biomedcentral.com/articles/10.1186/s12859-019-2604-0 - Performance study, diff. teqn.\n",
    "- https://www.youtube.com/watch?v=nC9_RfjYwqA - Stanford depency parsing lecture\n",
    "- https://academic.oup.com/bioinformatics/article/36/4/1234/5566506 - BioBERT\n",
    "\n",
    "Also read previous work on relation ship extraction done by:\n",
    "- Vilhelm Lundqvist and Olof Nordengren\n",
    "- Hannes Berntsson\n",
    "\n",
    "Previous group who have worked a bit with BioBERT:\n",
    "- Emil Aminy and Petter Berntsson\n"
   ]
  },
  {
   "cell_type": "markdown",
   "metadata": {},
   "source": [
    "## 2020 - 04 - 13\n",
    "**Aim**: Download kaggle dataset, comm_use_subset_100 dataset and set up BioBERT environment.\n",
    "\n",
    "**Result**: \n",
    "\n",
    "**Next Step**:\n",
    "\n"
   ]
  },
  {
   "cell_type": "markdown",
   "metadata": {},
   "source": [
    "Have downloaded BioBERT but as Anton suggests it might take too long time not running it on Colab. https://github.com/AnttonLA/BINP37/blob/master/bioBERT.ipynb . Therefore we will try setting up Colab-environment straight away."
   ]
  },
  {
   "cell_type": "code",
   "execution_count": null,
   "metadata": {},
   "outputs": [],
   "source": []
  }
 ],
 "metadata": {
  "kernelspec": {
   "display_name": "Python 3",
   "language": "python",
   "name": "python3"
  },
  "language_info": {
   "codemirror_mode": {
    "name": "ipython",
    "version": 3
   },
   "file_extension": ".py",
   "mimetype": "text/x-python",
   "name": "python",
   "nbconvert_exporter": "python",
   "pygments_lexer": "ipython3",
   "version": "3.7.4"
  }
 },
 "nbformat": 4,
 "nbformat_minor": 2
}
