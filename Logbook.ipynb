{
  "nbformat": 4,
  "nbformat_minor": 0,
  "metadata": {
    "kernelspec": {
      "display_name": "Python 3",
      "language": "python",
      "name": "python3"
    },
    "language_info": {
      "codemirror_mode": {
        "name": "ipython",
        "version": 3
      },
      "file_extension": ".py",
      "mimetype": "text/x-python",
      "name": "python",
      "nbconvert_exporter": "python",
      "pygments_lexer": "ipython3",
      "version": "3.7.4"
    },
    "colab": {
      "name": "Logbook.ipynb",
      "provenance": [],
      "collapsed_sections": [],
      "toc_visible": true,
      "include_colab_link": true
    }
  },
  "cells": [
    {
      "cell_type": "markdown",
      "metadata": {
        "id": "view-in-github",
        "colab_type": "text"
      },
      "source": [
        "<a href=\"https://colab.research.google.com/github/rasmusli/EDAN70-relationextraction/blob/master/Logbook.ipynb\" target=\"_parent\"><img src=\"https://colab.research.google.com/assets/colab-badge.svg\" alt=\"Open In Colab\"/></a>"
      ]
    },
    {
      "cell_type": "markdown",
      "metadata": {
        "id": "f1-RurnpOF5-",
        "colab_type": "text"
      },
      "source": [
        "# Rasmus and Viktor Logbook"
      ]
    },
    {
      "cell_type": "markdown",
      "metadata": {
        "id": "tCb8iiqdOF6D",
        "colab_type": "text"
      },
      "source": [
        "## 2020 - 04 - 11\n",
        "**Aim**: Setup up notebook, and github. Read articles relating to relation extraction and BioBERT. The main goal now is to get a good grip on what the overall goal of the project is as well as obtain as much information related to the areas as possible.\n",
        "\n",
        "**Result**: Notebook and git now up. Learnt a lot about NLP in general, and relation extraction and BioBERT specifically. Though a lot of more reading to be done.\n",
        "\n",
        "**Next Step**: Keep on reading up on relation extraction and BioBERT. Start setting everything up on our computers.\n",
        "\n",
        "Articles read:"
      ]
    },
    {
      "cell_type": "markdown",
      "metadata": {
        "id": "e8FbYX66OF6D",
        "colab_type": "text"
      },
      "source": [
        "- https://journals.plos.org/plosone/article?id=10.1371/journal.pone.0200699 - Relationship extraction using EnsambleSVM \n",
        "- https://bmcbioinformatics.biomedcentral.com/articles/10.1186/s12859-019-2604-0 - Performance study, diff. teqn.\n",
        "- https://www.youtube.com/watch?v=nC9_RfjYwqA - Stanford depency parsing lecture\n",
        "- https://academic.oup.com/bioinformatics/article/36/4/1234/5566506 - BioBERT\n",
        "\n",
        "Also read previous work on relation ship extraction done by:\n",
        "- Vilhelm Lundqvist and Olof Nordengren\n",
        "- Hannes Berntsson\n",
        "\n",
        "Previous group who have worked a bit with BioBERT:\n",
        "- Emil Aminy and Petter Berntsson\n"
      ]
    },
    {
      "cell_type": "markdown",
      "metadata": {
        "id": "s4AoDH2nOF6E",
        "colab_type": "text"
      },
      "source": [
        "## 2020 - 04 - 13\n",
        "**Aim**: Download kaggle dataset, comm_use_subset_100 dataset and set up BioBERT environment.\n",
        "\n",
        "**Result**: Downloaded the datasets. Have started working on Colab and understand how it works. Still working on setting up BioBERT environment.\n",
        "\n",
        "**Next Step**: Set up BioBERT enviroment in Colab.\n",
        "\n"
      ]
    },
    {
      "cell_type": "markdown",
      "metadata": {
        "id": "p7keVgtbOF6F",
        "colab_type": "text"
      },
      "source": [
        "Have downloaded BioBERT but as Anton suggests it might take too long time not running it on Colab. https://github.com/AnttonLA/BINP37/blob/master/bioBERT.ipynb . Therefore we will try setting up Colab-environment straight away.\n",
        "\n",
        "CUDA 9.0 download instructions:\n",
        "https://developer.nvidia.com/cuda-90-download-archive?target_os=Linux&target_arch=x86_64&target_distro=Ubuntu&target_version=1604&target_type=deblocal"
      ]
    },
    {
      "cell_type": "markdown",
      "metadata": {
        "id": "yTPpWvAyOF6F",
        "colab_type": "text"
      },
      "source": [
        "\n",
        "We had some struggles setting up BioBERT. We had to re-think how our final enviroment should look like. The biggest issue lied in that Colab requires us to set up the enviroment every time, so we wanted to make this process as smooth as possible. \n",
        "\n",
        "We will have Colab, google drive and a git as our main enviroment. On git we will have all required files needed for our Colab setup. In drive we will have our Colab notebooks, and from there we can save them to git so that we can show our progress continuously.\n",
        "\n",
        "\n"
      ]
    },
    {
      "cell_type": "markdown",
      "metadata": {
        "id": "dwPLSYFaOamq",
        "colab_type": "text"
      },
      "source": [
        "## 2020 - 04 - 27\n",
        "**Aim**: Setup working BioBERT enviroment\n",
        "\n",
        "**Result**: Downloaded the datasets. Have started working on Colab and understand how it works. Still working on setting up BioBERT environment.\n",
        "\n",
        "**Next Step**: Set up BioBERT enviroment in Colab.\n"
      ]
    },
    {
      "cell_type": "markdown",
      "metadata": {
        "id": "ddywAWwiOlrT",
        "colab_type": "text"
      },
      "source": [
        "Once again, we have struggled a bit with setting up the BioBERT enviroment. We wanted to avoid needing to authorize to google drive every time we wanted to run the environment. As mentioned in previous entry the plan was to have all the files needed on git. Though we have realized that due to the size of some of the files, for example the pretrained weights, this is not possible. Therefore we have gone back to the solution to store most of the stuff on a google drive and load everthing from there."
      ]
    },
    {
      "cell_type": "code",
      "metadata": {
        "id": "gQZUipy5kWto",
        "colab_type": "code",
        "colab": {}
      },
      "source": [
        ""
      ],
      "execution_count": 0,
      "outputs": []
    }
  ]
}